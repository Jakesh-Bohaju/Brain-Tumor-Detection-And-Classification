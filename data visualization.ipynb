{
 "cells": [
  {
   "cell_type": "code",
   "execution_count": 1,
   "metadata": {},
   "outputs": [],
   "source": [
    "import pandas as pd\n",
    "import matplotlib.pyplot as plt\n",
    "import seaborn as sns\n"
   ]
  },
  {
   "cell_type": "code",
   "execution_count": 2,
   "metadata": {},
   "outputs": [],
   "source": [
    "df = pd.read_csv(\"bt_dataset_t3.csv\")"
   ]
  },
  {
   "cell_type": "code",
   "execution_count": 3,
   "metadata": {},
   "outputs": [
    {
     "data": {
      "text/html": [
       "<div>\n",
       "<style scoped>\n",
       "    .dataframe tbody tr th:only-of-type {\n",
       "        vertical-align: middle;\n",
       "    }\n",
       "\n",
       "    .dataframe tbody tr th {\n",
       "        vertical-align: top;\n",
       "    }\n",
       "\n",
       "    .dataframe thead th {\n",
       "        text-align: right;\n",
       "    }\n",
       "</style>\n",
       "<table border=\"1\" class=\"dataframe\">\n",
       "  <thead>\n",
       "    <tr style=\"text-align: right;\">\n",
       "      <th></th>\n",
       "      <th>Image</th>\n",
       "      <th>Class</th>\n",
       "      <th>Mean</th>\n",
       "      <th>Variance</th>\n",
       "      <th>Standard Deviation</th>\n",
       "      <th>Entropy</th>\n",
       "      <th>Skewness</th>\n",
       "      <th>Kurtosis</th>\n",
       "      <th>Contrast</th>\n",
       "      <th>Energy</th>\n",
       "      <th>ASM</th>\n",
       "      <th>Homogeneity</th>\n",
       "      <th>Dissimilarity</th>\n",
       "      <th>Correlation</th>\n",
       "      <th>Coarseness</th>\n",
       "      <th>PSNR</th>\n",
       "      <th>SSIM</th>\n",
       "      <th>DC</th>\n",
       "      <th>TS</th>\n",
       "    </tr>\n",
       "  </thead>\n",
       "  <tbody>\n",
       "    <tr>\n",
       "      <th>0</th>\n",
       "      <td>Image1</td>\n",
       "      <td>0</td>\n",
       "      <td>8.749969</td>\n",
       "      <td>805.957634</td>\n",
       "      <td>28.389393</td>\n",
       "      <td>0.266538</td>\n",
       "      <td>3.718116</td>\n",
       "      <td>14.464618</td>\n",
       "      <td>63.858816</td>\n",
       "      <td>0.475051</td>\n",
       "      <td>0.225674</td>\n",
       "      <td>0.651352</td>\n",
       "      <td>3.220072</td>\n",
       "      <td>0.988834</td>\n",
       "      <td>7.458341e-155</td>\n",
       "      <td>Exaclty Same</td>\n",
       "      <td>1.000000</td>\n",
       "      <td>1.000000</td>\n",
       "      <td>1.000000</td>\n",
       "    </tr>\n",
       "    <tr>\n",
       "      <th>1</th>\n",
       "      <td>Image2</td>\n",
       "      <td>1</td>\n",
       "      <td>16.376648</td>\n",
       "      <td>1666.027096</td>\n",
       "      <td>40.816995</td>\n",
       "      <td>0.001810</td>\n",
       "      <td>3.270831</td>\n",
       "      <td>11.744579</td>\n",
       "      <td>127.107214</td>\n",
       "      <td>0.035536</td>\n",
       "      <td>0.001263</td>\n",
       "      <td>0.315807</td>\n",
       "      <td>6.406097</td>\n",
       "      <td>0.972815</td>\n",
       "      <td>7.458341e-155</td>\n",
       "      <td>108.8281082682796</td>\n",
       "      <td>0.972913</td>\n",
       "      <td>0.740385</td>\n",
       "      <td>0.587786</td>\n",
       "    </tr>\n",
       "    <tr>\n",
       "      <th>2</th>\n",
       "      <td>Image3</td>\n",
       "      <td>1</td>\n",
       "      <td>7.341095</td>\n",
       "      <td>1143.808219</td>\n",
       "      <td>33.820234</td>\n",
       "      <td>0.001467</td>\n",
       "      <td>5.061750</td>\n",
       "      <td>26.479563</td>\n",
       "      <td>81.867206</td>\n",
       "      <td>0.031917</td>\n",
       "      <td>0.001019</td>\n",
       "      <td>0.268275</td>\n",
       "      <td>5.981800</td>\n",
       "      <td>0.978014</td>\n",
       "      <td>7.458341e-155</td>\n",
       "      <td>110.34659737460763</td>\n",
       "      <td>0.977953</td>\n",
       "      <td>0.839019</td>\n",
       "      <td>0.722681</td>\n",
       "    </tr>\n",
       "    <tr>\n",
       "      <th>3</th>\n",
       "      <td>Image4</td>\n",
       "      <td>1</td>\n",
       "      <td>7.265640</td>\n",
       "      <td>1135.230082</td>\n",
       "      <td>33.693176</td>\n",
       "      <td>0.001167</td>\n",
       "      <td>5.069645</td>\n",
       "      <td>26.494927</td>\n",
       "      <td>104.731966</td>\n",
       "      <td>0.028452</td>\n",
       "      <td>0.000810</td>\n",
       "      <td>0.219702</td>\n",
       "      <td>6.757949</td>\n",
       "      <td>0.970221</td>\n",
       "      <td>7.458341e-155</td>\n",
       "      <td>111.84914480596005</td>\n",
       "      <td>0.982738</td>\n",
       "      <td>0.882421</td>\n",
       "      <td>0.789583</td>\n",
       "    </tr>\n",
       "    <tr>\n",
       "      <th>4</th>\n",
       "      <td>Image5</td>\n",
       "      <td>1</td>\n",
       "      <td>5.958145</td>\n",
       "      <td>959.711985</td>\n",
       "      <td>30.979219</td>\n",
       "      <td>0.001477</td>\n",
       "      <td>5.677977</td>\n",
       "      <td>33.428845</td>\n",
       "      <td>151.229741</td>\n",
       "      <td>0.032024</td>\n",
       "      <td>0.001026</td>\n",
       "      <td>0.243851</td>\n",
       "      <td>7.700919</td>\n",
       "      <td>0.964189</td>\n",
       "      <td>7.458341e-155</td>\n",
       "      <td>112.2662978145452</td>\n",
       "      <td>0.985362</td>\n",
       "      <td>0.849775</td>\n",
       "      <td>0.738790</td>\n",
       "    </tr>\n",
       "  </tbody>\n",
       "</table>\n",
       "</div>"
      ],
      "text/plain": [
       "    Image  Class       Mean     Variance  Standard Deviation   Entropy  \\\n",
       "0  Image1      0   8.749969   805.957634           28.389393  0.266538   \n",
       "1  Image2      1  16.376648  1666.027096           40.816995  0.001810   \n",
       "2  Image3      1   7.341095  1143.808219           33.820234  0.001467   \n",
       "3  Image4      1   7.265640  1135.230082           33.693176  0.001167   \n",
       "4  Image5      1   5.958145   959.711985           30.979219  0.001477   \n",
       "\n",
       "   Skewness   Kurtosis    Contrast    Energy       ASM  Homogeneity  \\\n",
       "0  3.718116  14.464618   63.858816  0.475051  0.225674     0.651352   \n",
       "1  3.270831  11.744579  127.107214  0.035536  0.001263     0.315807   \n",
       "2  5.061750  26.479563   81.867206  0.031917  0.001019     0.268275   \n",
       "3  5.069645  26.494927  104.731966  0.028452  0.000810     0.219702   \n",
       "4  5.677977  33.428845  151.229741  0.032024  0.001026     0.243851   \n",
       "\n",
       "   Dissimilarity  Correlation     Coarseness                PSNR      SSIM  \\\n",
       "0       3.220072     0.988834  7.458341e-155        Exaclty Same  1.000000   \n",
       "1       6.406097     0.972815  7.458341e-155   108.8281082682796  0.972913   \n",
       "2       5.981800     0.978014  7.458341e-155  110.34659737460763  0.977953   \n",
       "3       6.757949     0.970221  7.458341e-155  111.84914480596005  0.982738   \n",
       "4       7.700919     0.964189  7.458341e-155   112.2662978145452  0.985362   \n",
       "\n",
       "         DC        TS  \n",
       "0  1.000000  1.000000  \n",
       "1  0.740385  0.587786  \n",
       "2  0.839019  0.722681  \n",
       "3  0.882421  0.789583  \n",
       "4  0.849775  0.738790  "
      ]
     },
     "execution_count": 3,
     "metadata": {},
     "output_type": "execute_result"
    }
   ],
   "source": [
    "df.head()"
   ]
  },
  {
   "cell_type": "code",
   "execution_count": 4,
   "metadata": {},
   "outputs": [],
   "source": [
    "df = df.drop([\"PSNR\",\"SSIM\",\"DC\",\"TS\",\"Coarseness\",\"Image\"], axis=1)"
   ]
  },
  {
   "cell_type": "code",
   "execution_count": 5,
   "metadata": {},
   "outputs": [
    {
     "data": {
      "text/html": [
       "<div>\n",
       "<style scoped>\n",
       "    .dataframe tbody tr th:only-of-type {\n",
       "        vertical-align: middle;\n",
       "    }\n",
       "\n",
       "    .dataframe tbody tr th {\n",
       "        vertical-align: top;\n",
       "    }\n",
       "\n",
       "    .dataframe thead th {\n",
       "        text-align: right;\n",
       "    }\n",
       "</style>\n",
       "<table border=\"1\" class=\"dataframe\">\n",
       "  <thead>\n",
       "    <tr style=\"text-align: right;\">\n",
       "      <th></th>\n",
       "      <th>Class</th>\n",
       "      <th>Mean</th>\n",
       "      <th>Variance</th>\n",
       "      <th>Standard Deviation</th>\n",
       "      <th>Entropy</th>\n",
       "      <th>Skewness</th>\n",
       "      <th>Kurtosis</th>\n",
       "      <th>Contrast</th>\n",
       "      <th>Energy</th>\n",
       "      <th>ASM</th>\n",
       "      <th>Homogeneity</th>\n",
       "      <th>Dissimilarity</th>\n",
       "      <th>Correlation</th>\n",
       "    </tr>\n",
       "  </thead>\n",
       "  <tbody>\n",
       "    <tr>\n",
       "      <th>0</th>\n",
       "      <td>0</td>\n",
       "      <td>8.749969</td>\n",
       "      <td>805.957634</td>\n",
       "      <td>28.389393</td>\n",
       "      <td>0.266538</td>\n",
       "      <td>3.718116</td>\n",
       "      <td>14.464618</td>\n",
       "      <td>63.858816</td>\n",
       "      <td>0.475051</td>\n",
       "      <td>0.225674</td>\n",
       "      <td>0.651352</td>\n",
       "      <td>3.220072</td>\n",
       "      <td>0.988834</td>\n",
       "    </tr>\n",
       "    <tr>\n",
       "      <th>1</th>\n",
       "      <td>1</td>\n",
       "      <td>16.376648</td>\n",
       "      <td>1666.027096</td>\n",
       "      <td>40.816995</td>\n",
       "      <td>0.001810</td>\n",
       "      <td>3.270831</td>\n",
       "      <td>11.744579</td>\n",
       "      <td>127.107214</td>\n",
       "      <td>0.035536</td>\n",
       "      <td>0.001263</td>\n",
       "      <td>0.315807</td>\n",
       "      <td>6.406097</td>\n",
       "      <td>0.972815</td>\n",
       "    </tr>\n",
       "    <tr>\n",
       "      <th>2</th>\n",
       "      <td>1</td>\n",
       "      <td>7.341095</td>\n",
       "      <td>1143.808219</td>\n",
       "      <td>33.820234</td>\n",
       "      <td>0.001467</td>\n",
       "      <td>5.061750</td>\n",
       "      <td>26.479563</td>\n",
       "      <td>81.867206</td>\n",
       "      <td>0.031917</td>\n",
       "      <td>0.001019</td>\n",
       "      <td>0.268275</td>\n",
       "      <td>5.981800</td>\n",
       "      <td>0.978014</td>\n",
       "    </tr>\n",
       "    <tr>\n",
       "      <th>3</th>\n",
       "      <td>1</td>\n",
       "      <td>7.265640</td>\n",
       "      <td>1135.230082</td>\n",
       "      <td>33.693176</td>\n",
       "      <td>0.001167</td>\n",
       "      <td>5.069645</td>\n",
       "      <td>26.494927</td>\n",
       "      <td>104.731966</td>\n",
       "      <td>0.028452</td>\n",
       "      <td>0.000810</td>\n",
       "      <td>0.219702</td>\n",
       "      <td>6.757949</td>\n",
       "      <td>0.970221</td>\n",
       "    </tr>\n",
       "    <tr>\n",
       "      <th>4</th>\n",
       "      <td>1</td>\n",
       "      <td>5.958145</td>\n",
       "      <td>959.711985</td>\n",
       "      <td>30.979219</td>\n",
       "      <td>0.001477</td>\n",
       "      <td>5.677977</td>\n",
       "      <td>33.428845</td>\n",
       "      <td>151.229741</td>\n",
       "      <td>0.032024</td>\n",
       "      <td>0.001026</td>\n",
       "      <td>0.243851</td>\n",
       "      <td>7.700919</td>\n",
       "      <td>0.964189</td>\n",
       "    </tr>\n",
       "  </tbody>\n",
       "</table>\n",
       "</div>"
      ],
      "text/plain": [
       "   Class       Mean     Variance  Standard Deviation   Entropy  Skewness  \\\n",
       "0      0   8.749969   805.957634           28.389393  0.266538  3.718116   \n",
       "1      1  16.376648  1666.027096           40.816995  0.001810  3.270831   \n",
       "2      1   7.341095  1143.808219           33.820234  0.001467  5.061750   \n",
       "3      1   7.265640  1135.230082           33.693176  0.001167  5.069645   \n",
       "4      1   5.958145   959.711985           30.979219  0.001477  5.677977   \n",
       "\n",
       "    Kurtosis    Contrast    Energy       ASM  Homogeneity  Dissimilarity  \\\n",
       "0  14.464618   63.858816  0.475051  0.225674     0.651352       3.220072   \n",
       "1  11.744579  127.107214  0.035536  0.001263     0.315807       6.406097   \n",
       "2  26.479563   81.867206  0.031917  0.001019     0.268275       5.981800   \n",
       "3  26.494927  104.731966  0.028452  0.000810     0.219702       6.757949   \n",
       "4  33.428845  151.229741  0.032024  0.001026     0.243851       7.700919   \n",
       "\n",
       "   Correlation  \n",
       "0     0.988834  \n",
       "1     0.972815  \n",
       "2     0.978014  \n",
       "3     0.970221  \n",
       "4     0.964189  "
      ]
     },
     "execution_count": 5,
     "metadata": {},
     "output_type": "execute_result"
    }
   ],
   "source": [
    "df.head()"
   ]
  },
  {
   "cell_type": "code",
   "execution_count": 6,
   "metadata": {},
   "outputs": [
    {
     "data": {
      "text/plain": [
       "(7912, 13)"
      ]
     },
     "execution_count": 6,
     "metadata": {},
     "output_type": "execute_result"
    }
   ],
   "source": [
    "df.shape"
   ]
  },
  {
   "cell_type": "code",
   "execution_count": 7,
   "metadata": {},
   "outputs": [
    {
     "data": {
      "text/html": [
       "<div>\n",
       "<style scoped>\n",
       "    .dataframe tbody tr th:only-of-type {\n",
       "        vertical-align: middle;\n",
       "    }\n",
       "\n",
       "    .dataframe tbody tr th {\n",
       "        vertical-align: top;\n",
       "    }\n",
       "\n",
       "    .dataframe thead th {\n",
       "        text-align: right;\n",
       "    }\n",
       "</style>\n",
       "<table border=\"1\" class=\"dataframe\">\n",
       "  <thead>\n",
       "    <tr style=\"text-align: right;\">\n",
       "      <th></th>\n",
       "      <th>Class</th>\n",
       "      <th>Mean</th>\n",
       "      <th>Variance</th>\n",
       "      <th>Standard Deviation</th>\n",
       "      <th>Entropy</th>\n",
       "      <th>Skewness</th>\n",
       "      <th>Kurtosis</th>\n",
       "      <th>Contrast</th>\n",
       "      <th>Energy</th>\n",
       "      <th>ASM</th>\n",
       "      <th>Homogeneity</th>\n",
       "      <th>Dissimilarity</th>\n",
       "      <th>Correlation</th>\n",
       "    </tr>\n",
       "  </thead>\n",
       "  <tbody>\n",
       "    <tr>\n",
       "      <th>count</th>\n",
       "      <td>7912.000000</td>\n",
       "      <td>7912.000000</td>\n",
       "      <td>7912.000000</td>\n",
       "      <td>7912.000000</td>\n",
       "      <td>7912.000000</td>\n",
       "      <td>7912.000000</td>\n",
       "      <td>7912.000000</td>\n",
       "      <td>7912.000000</td>\n",
       "      <td>7912.000000</td>\n",
       "      <td>7912.000000</td>\n",
       "      <td>7912.000000</td>\n",
       "      <td>7912.000000</td>\n",
       "      <td>7912.000000</td>\n",
       "    </tr>\n",
       "    <tr>\n",
       "      <th>mean</th>\n",
       "      <td>0.494944</td>\n",
       "      <td>9.421721</td>\n",
       "      <td>719.703482</td>\n",
       "      <td>25.186816</td>\n",
       "      <td>0.070723</td>\n",
       "      <td>4.405060</td>\n",
       "      <td>31.261144</td>\n",
       "      <td>129.807348</td>\n",
       "      <td>0.196732</td>\n",
       "      <td>0.056486</td>\n",
       "      <td>0.469083</td>\n",
       "      <td>4.800043</td>\n",
       "      <td>0.953665</td>\n",
       "    </tr>\n",
       "    <tr>\n",
       "      <th>std</th>\n",
       "      <td>0.500006</td>\n",
       "      <td>5.973474</td>\n",
       "      <td>485.486996</td>\n",
       "      <td>9.237888</td>\n",
       "      <td>0.073660</td>\n",
       "      <td>3.274796</td>\n",
       "      <td>86.984261</td>\n",
       "      <td>107.569432</td>\n",
       "      <td>0.133360</td>\n",
       "      <td>0.061498</td>\n",
       "      <td>0.132954</td>\n",
       "      <td>1.928514</td>\n",
       "      <td>0.032334</td>\n",
       "    </tr>\n",
       "    <tr>\n",
       "      <th>min</th>\n",
       "      <td>0.000000</td>\n",
       "      <td>0.031006</td>\n",
       "      <td>1.773896</td>\n",
       "      <td>1.331877</td>\n",
       "      <td>0.000763</td>\n",
       "      <td>1.859388</td>\n",
       "      <td>3.845083</td>\n",
       "      <td>4.182229</td>\n",
       "      <td>0.023002</td>\n",
       "      <td>0.000529</td>\n",
       "      <td>0.069476</td>\n",
       "      <td>0.745999</td>\n",
       "      <td>0.150404</td>\n",
       "    </tr>\n",
       "    <tr>\n",
       "      <th>25%</th>\n",
       "      <td>0.000000</td>\n",
       "      <td>4.814888</td>\n",
       "      <td>352.472987</td>\n",
       "      <td>18.774264</td>\n",
       "      <td>0.005260</td>\n",
       "      <td>2.618984</td>\n",
       "      <td>7.266792</td>\n",
       "      <td>73.360707</td>\n",
       "      <td>0.060701</td>\n",
       "      <td>0.003685</td>\n",
       "      <td>0.351509</td>\n",
       "      <td>3.507372</td>\n",
       "      <td>0.945431</td>\n",
       "    </tr>\n",
       "    <tr>\n",
       "      <th>50%</th>\n",
       "      <td>0.000000</td>\n",
       "      <td>8.363800</td>\n",
       "      <td>636.717144</td>\n",
       "      <td>25.233255</td>\n",
       "      <td>0.057492</td>\n",
       "      <td>3.512341</td>\n",
       "      <td>13.101691</td>\n",
       "      <td>108.727422</td>\n",
       "      <td>0.208753</td>\n",
       "      <td>0.043578</td>\n",
       "      <td>0.497817</td>\n",
       "      <td>4.582484</td>\n",
       "      <td>0.961391</td>\n",
       "    </tr>\n",
       "    <tr>\n",
       "      <th>75%</th>\n",
       "      <td>1.000000</td>\n",
       "      <td>13.488964</td>\n",
       "      <td>1002.650852</td>\n",
       "      <td>31.664663</td>\n",
       "      <td>0.111447</td>\n",
       "      <td>4.899470</td>\n",
       "      <td>25.079700</td>\n",
       "      <td>161.440957</td>\n",
       "      <td>0.296509</td>\n",
       "      <td>0.087917</td>\n",
       "      <td>0.571601</td>\n",
       "      <td>5.841452</td>\n",
       "      <td>0.970926</td>\n",
       "    </tr>\n",
       "    <tr>\n",
       "      <th>max</th>\n",
       "      <td>1.000000</td>\n",
       "      <td>32.974335</td>\n",
       "      <td>2910.581879</td>\n",
       "      <td>53.949809</td>\n",
       "      <td>0.599728</td>\n",
       "      <td>43.510275</td>\n",
       "      <td>1912.661517</td>\n",
       "      <td>3382.574163</td>\n",
       "      <td>0.745844</td>\n",
       "      <td>0.556283</td>\n",
       "      <td>0.846715</td>\n",
       "      <td>35.750000</td>\n",
       "      <td>0.991877</td>\n",
       "    </tr>\n",
       "  </tbody>\n",
       "</table>\n",
       "</div>"
      ],
      "text/plain": [
       "             Class         Mean     Variance  Standard Deviation      Entropy  \\\n",
       "count  7912.000000  7912.000000  7912.000000         7912.000000  7912.000000   \n",
       "mean      0.494944     9.421721   719.703482           25.186816     0.070723   \n",
       "std       0.500006     5.973474   485.486996            9.237888     0.073660   \n",
       "min       0.000000     0.031006     1.773896            1.331877     0.000763   \n",
       "25%       0.000000     4.814888   352.472987           18.774264     0.005260   \n",
       "50%       0.000000     8.363800   636.717144           25.233255     0.057492   \n",
       "75%       1.000000    13.488964  1002.650852           31.664663     0.111447   \n",
       "max       1.000000    32.974335  2910.581879           53.949809     0.599728   \n",
       "\n",
       "          Skewness     Kurtosis     Contrast       Energy          ASM  \\\n",
       "count  7912.000000  7912.000000  7912.000000  7912.000000  7912.000000   \n",
       "mean      4.405060    31.261144   129.807348     0.196732     0.056486   \n",
       "std       3.274796    86.984261   107.569432     0.133360     0.061498   \n",
       "min       1.859388     3.845083     4.182229     0.023002     0.000529   \n",
       "25%       2.618984     7.266792    73.360707     0.060701     0.003685   \n",
       "50%       3.512341    13.101691   108.727422     0.208753     0.043578   \n",
       "75%       4.899470    25.079700   161.440957     0.296509     0.087917   \n",
       "max      43.510275  1912.661517  3382.574163     0.745844     0.556283   \n",
       "\n",
       "       Homogeneity  Dissimilarity  Correlation  \n",
       "count  7912.000000    7912.000000  7912.000000  \n",
       "mean      0.469083       4.800043     0.953665  \n",
       "std       0.132954       1.928514     0.032334  \n",
       "min       0.069476       0.745999     0.150404  \n",
       "25%       0.351509       3.507372     0.945431  \n",
       "50%       0.497817       4.582484     0.961391  \n",
       "75%       0.571601       5.841452     0.970926  \n",
       "max       0.846715      35.750000     0.991877  "
      ]
     },
     "execution_count": 7,
     "metadata": {},
     "output_type": "execute_result"
    }
   ],
   "source": [
    "df.describe()"
   ]
  },
  {
   "cell_type": "code",
   "execution_count": 8,
   "metadata": {},
   "outputs": [
    {
     "data": {
      "image/png": "[encoded data removed]",
      "text/plain": [
       "<Figure size 432x288 with 1 Axes>"
      ]
     },
     "metadata": {
      "needs_background": "light"
     },
     "output_type": "display_data"
    }
   ],
   "source": [
    "sns.boxplot(x=\"Class\", y=\"Mean\", data=df);"
   ]
  },
  {
   "cell_type": "code",
   "execution_count": 9,
   "metadata": {},
   "outputs": [
    {
     "data": {
      "text/plain": [
       "<matplotlib.axes._subplots.AxesSubplot at 0x7fa306b1e1d0>"
      ]
     },
     "execution_count": 9,
     "metadata": {},
     "output_type": "execute_result"
    },
    {
     "data": {
      "image/png": "[encoded data removed]",
      "text/plain": [
       "<Figure size 432x288 with 1 Axes>"
      ]
     },
     "metadata": {
      "needs_background": "light"
     },
     "output_type": "display_data"
    }
   ],
   "source": [
    "sns.distplot(df, kde=True, hist=True)"
   ]
  },
  {
   "cell_type": "code",
   "execution_count": 10,
   "metadata": {},
   "outputs": [
    {
     "name": "stdout",
     "output_type": "stream",
     "text": [
      "[[0.98993938 0.11246295 0.17767645 ... 1.37099818 0.81932064 1.08776441]\n",
      " [1.01016286 1.16437546 1.94934865 ... 1.15292249 0.83284557 0.59229413]\n",
      " [1.01016286 0.34833301 0.87362081 ... 1.51045184 0.61281939 0.75308555]\n",
      " ...\n",
      " [0.98993938 0.23174935 0.50618054 ... 1.22974145 0.87302876 0.68922004]\n",
      " [0.98993938 0.12429579 0.46571212 ... 1.14290932 0.91674518 0.740498  ]\n",
      " [0.98993938 0.04310593 0.46525735 ... 0.96811973 0.84571498 0.69557308]]\n"
     ]
    }
   ],
   "source": [
    "from scipy import stats\n",
    "import numpy as np\n",
    "z = np.abs(stats.zscore(df))\n",
    "print(z)"
   ]
  },
  {
   "cell_type": "code",
   "execution_count": 11,
   "metadata": {},
   "outputs": [
    {
     "name": "stdout",
     "output_type": "stream",
     "text": [
      "(array([  35,   62,   62,   63,   63,   64,   64,   74,   75,   76,   77,\n",
      "         85,   88,  119,  119,  134,  204,  240,  240,  281,  281,  284,\n",
      "        342,  356,  390,  394,  409,  410,  428,  428,  429,  448,  523,\n",
      "        535,  535,  535,  535,  567,  567,  567,  568,  677,  677,  697,\n",
      "        697,  698,  698,  718,  720,  724,  778,  778,  829,  830,  900,\n",
      "        900,  920,  920,  921,  921,  941,  943,  947, 1001, 1001, 1052,\n",
      "       1053, 1095, 1115, 1123, 1124, 1124, 1131, 1131, 1132, 1132, 1134,\n",
      "       1208, 1209, 1220, 1321, 1342, 1342, 1363, 1363, 1392, 1392, 1392,\n",
      "       1392, 1394, 1410, 1411, 1429, 1447, 1447, 1448, 1448, 1449, 1449,\n",
      "       1449, 1452, 1452, 1452, 1454, 1461, 1462, 1462, 1487, 1489, 1489,\n",
      "       1492, 1492, 1492, 1492, 1492, 1497, 1513, 1513, 1514, 1514, 1514,\n",
      "       1517, 1517, 1521, 1521, 1533, 1533, 1538, 1538, 1558, 1590, 1593,\n",
      "       1597, 1599, 1599, 1599, 1600, 1604, 1604, 1604, 1604, 1605, 1606,\n",
      "       1606, 1646, 1646, 1652, 1652, 1657, 1657, 1657, 1660, 1660, 1660,\n",
      "       1671, 1671, 1671, 1671, 1671, 1677, 1677, 1705, 1705, 1705, 1705,\n",
      "       1713, 1721, 1721, 1727, 1727, 1727, 1730, 1730, 1730, 1731, 1731,\n",
      "       1731, 1756, 1778, 1778, 1778, 1809, 1809, 1822, 1822, 1832, 1832,\n",
      "       1832, 1832, 1832, 1833, 1834, 1835, 1840, 1840, 1854, 1854, 1854,\n",
      "       1854, 1885, 1885, 1885, 1897, 1901, 1918, 1918, 1918, 1923, 1923,\n",
      "       1923, 1956, 1956, 1957, 1957, 1957, 1958, 1969, 1975, 1975, 1976,\n",
      "       1976, 1976, 1976, 1976, 2031, 2031, 2036, 2036, 2043, 2043, 2044,\n",
      "       2045, 2045, 2046, 2046, 2054, 2054, 2072, 2072, 2072, 2106, 2106,\n",
      "       2107, 2107, 2116, 2116, 2123, 2148, 2148, 2148, 2150, 2151, 2152,\n",
      "       2152, 2152, 2208, 2252, 2252, 2267, 2267, 2267, 2267, 2268, 2268,\n",
      "       2268, 2268, 2268, 2275, 2275, 2293, 2294, 2294, 2310, 2310, 2318,\n",
      "       2321, 2321, 2332, 2332, 2334, 2344, 2344, 2344, 2353, 2353, 2354,\n",
      "       2354, 2357, 2357, 2358, 2358, 2359, 2372, 2372, 2372, 2378, 2378,\n",
      "       2384, 2384, 2384, 2384, 2385, 2385, 2385, 2387, 2387, 2414, 2414,\n",
      "       2420, 2420, 2420, 2423, 2426, 2426, 2427, 2427, 2428, 2428, 2428,\n",
      "       2429, 2429, 2429, 2429, 2442, 2443, 2443, 2443, 2447, 2453, 2454,\n",
      "       2454, 2454, 2454, 2477, 2477, 2477, 2508, 2528, 2528, 2529, 2529,\n",
      "       2529, 2529, 2529, 2535, 2546, 2546, 2561, 2562, 2562, 2562, 2563,\n",
      "       2569, 2569, 2569, 2598, 2598, 2598, 2609, 2609, 2609, 2619, 2619,\n",
      "       2619, 2620, 2620, 2620, 2622, 2622, 2622, 2623, 2627, 2647, 2648,\n",
      "       2648, 2656, 2656, 2656, 2669, 2669, 2669, 2669, 2669, 2670, 2670,\n",
      "       2670, 2670, 2681, 2681, 2681, 2681, 2684, 2684, 2684, 2685, 2686,\n",
      "       2687, 2687, 2687, 2708, 2708, 2708, 2727, 2727, 2751, 2751, 2753,\n",
      "       2753, 2768, 2768, 2768, 2768, 2777, 2792, 2792, 2793, 2801, 2801,\n",
      "       2802, 2802, 2802, 2802, 2802, 2809, 2809, 2813, 2819, 2830, 2846,\n",
      "       2846, 2860, 2860, 2860, 2893, 2893, 2907, 2907, 2930, 2931, 2931,\n",
      "       2931, 2931, 2932, 2932, 2947, 2947, 2947, 2981, 2981, 2992, 2992,\n",
      "       2993, 2993, 2994, 2994, 3002, 3003, 3003, 3003, 3035, 3035, 3042,\n",
      "       3042, 3043, 3043, 3043, 3043, 3044, 3044, 3051, 3051, 3051, 3051,\n",
      "       3051, 3051, 3056, 3056, 3057, 3057, 3073, 3073, 3073, 3082, 3082,\n",
      "       3082, 3085, 3085, 3085, 3088, 3088, 3088, 3088, 3088, 3095, 3095,\n",
      "       3096, 3104, 3104, 3110, 3110, 3110, 3118, 3127, 3127, 3128, 3128,\n",
      "       3128, 3131, 3131, 3132, 3132, 3132, 3133, 3134, 3134, 3134, 3135,\n",
      "       3135, 3135, 3144, 3144, 3144, 3153, 3172, 3172, 3175, 3244, 3289,\n",
      "       3354, 3354, 3368, 3384, 3384, 3446, 3446, 3447, 3447, 3604, 3604,\n",
      "       3605, 3605, 3689, 3758, 3758, 3775, 3785, 3794, 3951, 3951, 3957,\n",
      "       4020, 4020, 4111, 4111, 4130, 4130, 4231, 4232, 4233, 4235, 4239,\n",
      "       4286, 4287, 4326, 4368, 4368, 4369, 4369, 4417, 4555, 4555, 4560,\n",
      "       4561, 4585, 4585, 4633, 4694, 4694, 4744, 4744, 4760, 4761, 4763,\n",
      "       4763, 4780, 4780, 4780, 4781, 4799, 4799, 4799, 4801, 4810, 4820,\n",
      "       4820, 4843, 4844, 4845, 4858, 4914, 4915, 4921, 4989, 4989, 4989,\n",
      "       4992, 5270, 5324, 5325, 5326, 5379, 5379, 5380, 5381, 5381, 5382,\n",
      "       5382, 5383, 5383, 5384, 5384, 5437, 5437, 5437, 5437, 5480, 5480,\n",
      "       5480, 5578, 5622, 5622, 5724, 5724, 5725, 5725, 5768, 5768, 5782,\n",
      "       5782, 5783, 5787, 5788, 5895, 5933, 5933, 5933, 5933, 5977, 5985,\n",
      "       5985, 5997, 5997, 6033, 6051, 6054, 6081, 6081, 6081, 6082, 6082,\n",
      "       6083, 6107, 6110, 6110, 6168, 6168, 6179, 6179, 6179, 6245, 6246,\n",
      "       6246, 6247, 6247, 6247, 6268, 6321, 6321, 6322, 6322, 6322, 6324,\n",
      "       6333, 6333, 6347, 6349, 6349, 6350, 6350, 6351, 6354, 6361, 6365,\n",
      "       6428, 6428, 6428, 6429, 6429, 6446, 6446, 6488, 6488, 6489, 6490,\n",
      "       6490, 6507, 6521, 6521, 6521, 6530, 6530, 6541, 6541, 6541, 6573,\n",
      "       6573, 6589, 6590, 6645, 6646, 6703, 6703, 6703, 6704, 6729, 6729,\n",
      "       6729, 6729, 6729, 6760, 6838, 6913, 6914, 6948, 6948, 7003, 7003,\n",
      "       7003, 7063, 7081, 7082, 7108, 7108, 7109, 7110, 7140, 7140, 7140,\n",
      "       7141, 7141, 7141, 7142, 7142, 7142, 7143, 7143, 7143, 7144, 7144,\n",
      "       7144, 7159, 7160, 7160, 7160, 7161, 7168, 7168, 7168, 7172, 7172,\n",
      "       7174, 7181, 7181, 7181, 7247, 7247, 7258, 7258, 7258, 7314, 7314,\n",
      "       7318, 7318, 7318, 7320, 7320, 7321, 7362, 7362, 7362, 7363, 7363,\n",
      "       7364, 7364, 7366, 7366, 7367, 7367, 7367, 7367, 7368, 7370, 7390,\n",
      "       7390, 7390, 7391, 7391, 7391, 7391, 7391, 7392, 7865, 7865]), array([12,  7, 11,  1,  2,  4,  9,  2,  2,  5, 12,  5,  5,  1,  2,  2,  9,\n",
      "        4,  9,  5,  6,  9,  9,  9,  9, 12,  2,  2,  1,  2,  2,  9,  9,  5,\n",
      "        6, 11, 12,  1,  2,  3,  2,  4,  9,  1,  2,  1,  2,  7,  7,  9,  4,\n",
      "        9,  7,  7,  4,  9,  1,  2,  1,  2,  7,  7,  9,  4,  9,  7,  7,  7,\n",
      "        1,  1,  1,  2,  1,  2,  1,  2,  9,  2,  2,  2,  2,  1,  2,  4,  9,\n",
      "        5,  6, 11, 12, 12,  7, 12, 11,  5,  6,  5,  6,  5,  6, 12,  5,  6,\n",
      "       12, 12,  9,  5, 12,  7,  4,  9,  5,  6,  7, 11, 12, 12,  1,  2,  5,\n",
      "        6, 12,  4,  9,  5, 11,  5, 11,  5, 12,  7,  1,  7,  5,  5,  6, 12,\n",
      "        5,  5,  6,  7, 11,  5,  5, 12,  7, 11,  5,  6,  5,  6, 12,  5,  6,\n",
      "       12,  5,  6,  7, 11, 12,  4,  9,  5,  7, 11, 12, 12,  5,  6,  5,  6,\n",
      "       12,  5,  6, 12,  5,  6, 12,  5,  4,  8,  9,  5,  6,  4,  9,  4,  5,\n",
      "        8,  9, 12,  2,  2,  2,  4,  9,  5,  6,  7, 12,  4,  8,  9,  1,  7,\n",
      "        5,  6, 12,  5,  6, 12,  5, 12,  5,  6, 12,  9, 12,  7, 11,  5,  6,\n",
      "        7, 11, 12,  5, 12,  1,  2,  5, 11, 11,  5, 11,  5, 11,  4,  9,  5,\n",
      "        6, 12,  5,  6,  5,  6,  5, 12, 12,  4,  8,  9,  5, 12,  5,  6, 12,\n",
      "        2,  5,  6,  5,  7, 11, 12,  5,  6,  7, 11, 12,  4,  9, 12,  5,  6,\n",
      "        5,  6,  2,  7, 12,  4,  9,  1,  5,  6, 12,  1,  2,  1,  2,  1,  2,\n",
      "        1,  2,  2,  4,  8,  9,  7, 12,  5,  6, 11, 12,  5,  6, 11,  5, 11,\n",
      "        5,  6,  5,  6, 12,  5,  5,  6,  5, 11,  5,  6, 12,  5,  7, 11, 12,\n",
      "       12,  5,  6, 12,  1,  7,  5,  7, 11, 12,  4,  9, 12, 12,  4,  9,  5,\n",
      "        6,  7, 11, 12, 12,  7, 12,  2,  1,  2,  3,  2,  5,  6, 12,  4,  8,\n",
      "        9,  5,  6, 12,  5,  6, 12,  5,  6, 12,  5,  7, 11,  1,  7,  5,  5,\n",
      "        6,  5,  6, 12,  5,  6,  7, 11, 12,  5,  6, 11, 12,  5,  6,  7, 11,\n",
      "        5,  6, 12,  5,  5,  5,  6, 12,  5,  6, 12,  5,  6,  1,  2,  4,  9,\n",
      "        5,  6, 11, 12,  7,  5,  6,  5,  5, 11,  5,  6,  7, 11, 12,  4,  9,\n",
      "        5,  7, 11,  7, 11,  5,  6, 12,  4,  9,  4,  9,  7,  5,  7, 11, 12,\n",
      "        5,  6,  4,  8,  9,  5, 12,  4,  9,  1,  2,  1,  2,  7,  4,  7,  9,\n",
      "        1,  2,  7, 11,  5,  7, 11, 12,  1,  2,  5,  6,  7, 10, 11, 12,  1,\n",
      "        2,  1,  2,  5,  6, 12,  5,  6, 12,  5,  6, 12,  5,  6,  7, 11, 12,\n",
      "        5,  6,  7,  4,  9,  4,  8,  9, 12,  5,  6,  5,  6, 12,  4,  9,  5,\n",
      "        6, 12,  5,  5,  6, 12,  5,  6, 11,  5,  6,  7,  1,  1,  2,  2, 12,\n",
      "        7,  1,  2,  9,  4,  9,  7, 11,  7, 11,  4,  9,  4,  9,  7,  4,  9,\n",
      "        9,  9,  9,  4,  9,  9,  4,  9,  4,  9,  4,  9,  2,  2,  2, 12,  2,\n",
      "        2,  2, 12,  5, 12,  5, 12,  7,  5,  6,  2,  2,  1,  2,  5,  4,  9,\n",
      "        7, 11,  2,  2,  5,  6,  5,  6, 12,  5,  5,  6, 12, 12,  7,  1,  2,\n",
      "        2,  2,  2,  5, 11,  7, 12,  5,  6, 12, 12, 11,  2,  2,  2,  1,  2,\n",
      "        2,  1,  2,  1,  2,  1,  2,  1,  2,  5,  6, 11, 12,  5,  6, 11,  7,\n",
      "        1,  2,  7, 11,  7, 11,  5,  6,  1,  2,  2,  1,  1,  7,  5,  6, 11,\n",
      "       12, 12,  4,  9,  5, 12,  9,  7,  1,  5,  6, 11,  5, 11, 11,  2,  5,\n",
      "        6,  5,  6,  5,  6, 12,  7,  7, 11,  5,  6, 11,  5,  7, 11,  5,  7,\n",
      "       11,  7,  4,  9,  7,  5,  6,  5,  6,  7,  7,  2,  9,  5,  6, 11,  4,\n",
      "        9,  7, 12,  7, 11, 12,  7, 11,  2,  5,  6, 12,  5, 12,  5,  6, 12,\n",
      "        1,  2,  2,  2, 11,  7,  5,  6, 11,  5,  5,  6,  7, 11, 12,  9,  2,\n",
      "        2,  2,  1,  2,  5,  6, 12,  7, 12, 12,  5,  6,  5,  5,  5,  6, 12,\n",
      "        5,  6, 11,  5,  6, 11,  5,  6, 11,  5,  6, 11,  5,  5,  6, 11,  5,\n",
      "        5,  6, 12,  7, 11, 11,  7, 11, 12,  5,  6,  5,  6, 11,  5,  6,  5,\n",
      "        6, 12,  5,  6,  5,  5,  6, 11,  5,  6,  5, 11,  7, 11,  5,  6,  7,\n",
      "       11, 11, 11,  4,  8,  9,  5,  6,  7, 11, 12,  7,  4,  9]))\n"
     ]
    }
   ],
   "source": [
    "threshold = 3\n",
    "ol = np.where(z > threshold)\n",
    "print(ol)"
   ]
  },
  {
   "cell_type": "code",
   "execution_count": 12,
   "metadata": {},
   "outputs": [
    {
     "data": {
      "text/plain": [
       "813"
      ]
     },
     "execution_count": 12,
     "metadata": {},
     "output_type": "execute_result"
    }
   ],
   "source": [
    "len(ol[0])"
   ]
  },
  {
   "cell_type": "code",
   "execution_count": 13,
   "metadata": {},
   "outputs": [],
   "source": [
    "import numpy as np"
   ]
  },
  {
   "cell_type": "code",
   "execution_count": 14,
   "metadata": {},
   "outputs": [
    {
     "data": {
      "text/plain": [
       "30.240676490716982"
      ]
     },
     "execution_count": 14,
     "metadata": {},
     "output_type": "execute_result"
    }
   ],
   "source": [
    "np.max(z)"
   ]
  },
  {
   "cell_type": "code",
   "execution_count": 15,
   "metadata": {},
   "outputs": [
    {
     "name": "stdout",
     "output_type": "stream",
     "text": [
      "Class                   1.000000\n",
      "Mean                    8.674076\n",
      "Variance              650.177866\n",
      "Standard Deviation     12.890399\n",
      "Entropy                 0.106188\n",
      "Skewness                2.280486\n",
      "Kurtosis               17.812908\n",
      "Contrast               88.080250\n",
      "Energy                  0.235808\n",
      "ASM                     0.084233\n",
      "Homogeneity             0.220092\n",
      "Dissimilarity           2.334079\n",
      "Correlation             0.025495\n",
      "dtype: float64\n"
     ]
    }
   ],
   "source": [
    "Q1 = df.quantile(0.25)\n",
    "Q3 = df.quantile(0.75)\n",
    "IQR = Q3 - Q1\n",
    "print(IQR)"
   ]
  },
  {
   "cell_type": "code",
   "execution_count": 25,
   "metadata": {},
   "outputs": [],
   "source": [
    "oldf = df[(z < 2.5).all(axis=1)]"
   ]
  },
  {
   "cell_type": "code",
   "execution_count": 26,
   "metadata": {},
   "outputs": [
    {
     "data": {
      "text/plain": [
       "(6433, 13)"
      ]
     },
     "execution_count": 26,
     "metadata": {},
     "output_type": "execute_result"
    }
   ],
   "source": [
    "df_out = oldf[~((oldf < (Q1 - 1.5 * IQR)) |(oldf > (Q3 + 1.5 * IQR))).any(axis=1)]\n",
    "df_out.shape"
   ]
  },
  {
   "cell_type": "code",
   "execution_count": 27,
   "metadata": {},
   "outputs": [
    {
     "data": {
      "image/png": "[encoded data removed]",
      "text/plain": [
       "<Figure size 432x288 with 1 Axes>"
      ]
     },
     "metadata": {
      "needs_background": "light"
     },
     "output_type": "display_data"
    }
   ],
   "source": [
    "sns.boxplot(x=\"Class\", y=\"Mean\", data=df_out);"
   ]
  },
  {
   "cell_type": "code",
   "execution_count": 28,
   "metadata": {},
   "outputs": [
    {
     "ename": "NameError",
     "evalue": "name 'x_train' is not defined",
     "output_type": "error",
     "traceback": [
      "\u001b[0;31m---------------------------------------------------------------------------\u001b[0m",
      "\u001b[0;31mNameError\u001b[0m                                 Traceback (most recent call last)",
      "\u001b[0;32m<ipython-input-28-a34b774d3486>\u001b[0m in \u001b[0;36m<module>\u001b[0;34m\u001b[0m\n\u001b[1;32m     21\u001b[0m \u001b[0;32mfor\u001b[0m \u001b[0mm\u001b[0m \u001b[0;32min\u001b[0m \u001b[0mmodels\u001b[0m\u001b[0;34m:\u001b[0m\u001b[0;34m\u001b[0m\u001b[0;34m\u001b[0m\u001b[0m\n\u001b[1;32m     22\u001b[0m     \u001b[0mmodel\u001b[0m \u001b[0;34m=\u001b[0m \u001b[0mm\u001b[0m\u001b[0;34m[\u001b[0m\u001b[0;34m'model'\u001b[0m\u001b[0;34m]\u001b[0m \u001b[0;31m# select the model\u001b[0m\u001b[0;34m\u001b[0m\u001b[0;34m\u001b[0m\u001b[0m\n\u001b[0;32m---> 23\u001b[0;31m     \u001b[0mmodel\u001b[0m\u001b[0;34m.\u001b[0m\u001b[0mfit\u001b[0m\u001b[0;34m(\u001b[0m\u001b[0mx_train\u001b[0m\u001b[0;34m,\u001b[0m \u001b[0my_train\u001b[0m\u001b[0;34m)\u001b[0m \u001b[0;31m# train the model\u001b[0m\u001b[0;34m\u001b[0m\u001b[0;34m\u001b[0m\u001b[0m\n\u001b[0m\u001b[1;32m     24\u001b[0m     \u001b[0my_pred\u001b[0m\u001b[0;34m=\u001b[0m\u001b[0mmodel\u001b[0m\u001b[0;34m.\u001b[0m\u001b[0mpredict\u001b[0m\u001b[0;34m(\u001b[0m\u001b[0mx_test\u001b[0m\u001b[0;34m)\u001b[0m \u001b[0;31m# predict the test data\u001b[0m\u001b[0;34m\u001b[0m\u001b[0;34m\u001b[0m\u001b[0m\n\u001b[1;32m     25\u001b[0m \u001b[0;31m# Compute False postive rate, and True positive rate\u001b[0m\u001b[0;34m\u001b[0m\u001b[0;34m\u001b[0m\u001b[0;34m\u001b[0m\u001b[0m\n",
      "\u001b[0;31mNameError\u001b[0m: name 'x_train' is not defined"
     ]
    },
    {
     "data": {
      "text/plain": [
       "<Figure size 432x288 with 0 Axes>"
      ]
     },
     "metadata": {},
     "output_type": "display_data"
    }
   ],
   "source": [
    "from sklearn.linear_model import LogisticRegression\n",
    "from sklearn.ensemble import GradientBoostingClassifier\n",
    "from sklearn import metrics\n",
    "import matplotlib.pyplot as plt\n",
    "\n",
    "plt.figure()\n",
    "\n",
    "# Add the models to the list that you want to view on the ROC plot\n",
    "models = [\n",
    "{\n",
    "    'label': 'Logistic Regression',\n",
    "    'model': LogisticRegression(),\n",
    "},\n",
    "{\n",
    "    'label': 'Gradient Boosting',\n",
    "    'model': GradientBoostingClassifier(),\n",
    "}\n",
    "]\n",
    "\n",
    "# Below for loop iterates through your models list\n",
    "for m in models:\n",
    "    model = m['model'] # select the model\n",
    "    model.fit(x_train, y_train) # train the model\n",
    "    y_pred=model.predict(x_test) # predict the test data\n",
    "# Compute False postive rate, and True positive rate\n",
    "    fpr, tpr, thresholds = metrics.roc_curve(y_test, model.predict_proba(x_test)[:,1])\n",
    "# Calculate Area under the curve to display on the plot\n",
    "    auc = metrics.roc_auc_score(y_test,model.predict(x_test))\n",
    "# Now, plot the computed values\n",
    "    plt.plot(fpr, tpr, label='%s ROC (area = %0.2f)' % (m['label'], auc))\n",
    "# Custom settings for the plot \n",
    "plt.plot([0, 1], [0, 1],'r--')\n",
    "plt.xlim([0.0, 1.0])\n",
    "plt.ylim([0.0, 1.05])\n",
    "plt.xlabel('1-Specificity(False Positive Rate)')\n",
    "plt.ylabel('Sensitivity(True Positive Rate)')\n",
    "plt.title('Receiver Operating Characteristic')\n",
    "plt.legend(loc=\"lower right\")\n",
    "plt.show()   # Display"
   ]
  },
  {
   "cell_type": "code",
   "execution_count": 30,
   "metadata": {},
   "outputs": [
    {
     "data": {
      "text/plain": [
       "<matplotlib.legend.Legend at 0x7fa305fe4890>"
      ]
     },
     "execution_count": 30,
     "metadata": {},
     "output_type": "execute_result"
    },
    {
     "data": {
      "image/png": "[encoded data removed]",
      "text/plain": [
       "<Figure size 432x288 with 1 Axes>"
      ]
     },
     "metadata": {
      "needs_background": "light"
     },
     "output_type": "display_data"
    }
   ],
   "source": [
    "\n",
    "from sklearn import metrics\n",
    "import numpy as np\n",
    "import matplotlib.pyplot as plt\n",
    "\n",
    "# plt.figure(0).clf()\n",
    "\n",
    "pred = np.random.rand(1000)\n",
    "label = np.random.randint(2, size=1000)\n",
    "fpr, tpr, thresh = metrics.roc_curve(label, pred)\n",
    "auc = metrics.roc_auc_score(label, pred)\n",
    "plt.plot(fpr,tpr,label=\"data 1, auc=\"+str(auc))\n",
    "\n",
    "pred = np.random.rand(1000)\n",
    "label = np.random.randint(2, size=1000)\n",
    "fpr, tpr, thresh = metrics.roc_curve(label, pred)\n",
    "auc = metrics.roc_auc_score(label, pred)\n",
    "plt.plot(fpr,tpr,label=\"data 2, auc=\"+str(auc))\n",
    "\n",
    "plt.legend(loc=0)"
   ]
  },
  {
   "cell_type": "code",
   "execution_count": null,
   "metadata": {},
   "outputs": [],
   "source": []
  }
 ],
 "metadata": {
  "kernelspec": {
   "display_name": "Python 3",
   "language": "python",
   "name": "python3"
  },
  "language_info": {
   "codemirror_mode": {
    "name": "ipython",
    "version": 3
   },
   "file_extension": ".py",
   "mimetype": "text/x-python",
   "name": "python",
   "nbconvert_exporter": "python",
   "pygments_lexer": "ipython3",
   "version": "3.7.6"
  }
 },
 "nbformat": 4,
 "nbformat_minor": 4
}
